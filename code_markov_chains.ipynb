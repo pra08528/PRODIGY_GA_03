{
  "nbformat": 4,
  "nbformat_minor": 0,
  "metadata": {
    "colab": {
      "provenance": [],
      "authorship_tag": "ABX9TyOq2xLxBWQ8AOSuDVABpjxi",
      "include_colab_link": true
    },
    "kernelspec": {
      "name": "python3",
      "display_name": "Python 3"
    },
    "language_info": {
      "name": "python"
    }
  },
  "cells": [
    {
      "cell_type": "markdown",
      "metadata": {
        "id": "view-in-github",
        "colab_type": "text"
      },
      "source": [
        "<a href=\"https://colab.research.google.com/github/pra08528/PRODIGY_GA_03/blob/main/code_markov_chains.ipynb\" target=\"_parent\"><img src=\"https://colab.research.google.com/assets/colab-badge.svg\" alt=\"Open In Colab\"/></a>"
      ]
    },
    {
      "cell_type": "code",
      "execution_count": 1,
      "metadata": {
        "colab": {
          "base_uri": "https://localhost:8080/"
        },
        "id": "5SG9rW-3tOEh",
        "outputId": "a572618e-60a8-457c-e1c0-a3db070c817e"
      },
      "outputs": [
        {
          "output_type": "stream",
          "name": "stdout",
          "text": [
            "were preparing for her wisdom and beauty the kingdom was eager to explore the people were preparing for the young prince was eager to explore the castle walls in a king who ruled with kindness the people were preparing for her wisdom and beauty the queen of the castle walls\n"
          ]
        }
      ],
      "source": [
        "import random\n",
        "import re\n",
        "from collections import defaultdict\n",
        "\n",
        "# Sample text data (you can replace this with your dataset)\n",
        "text = \"\"\"\n",
        "Once upon a time, in a land far away, there lived a king who ruled with kindness.\n",
        "The queen of the kingdom was known for her wisdom and beauty.\n",
        "The young prince was eager to explore the world beyond the castle walls.\n",
        "In the village, the people were preparing for the annual harvest festival.\n",
        "\"\"\"\n",
        "\n",
        "# Step 1: Tokenize the text into words\n",
        "words = re.findall(r'\\w+', text.lower())\n",
        "\n",
        "# Step 2: Build the Markov chain model\n",
        "markov_model = defaultdict(list)\n",
        "\n",
        "for i in range(len(words) - 1):\n",
        "    current_word = words[i]\n",
        "    next_word = words[i + 1]\n",
        "    markov_model[current_word].append(next_word)\n",
        "\n",
        "# Step 3: Generate text using the Markov chain model\n",
        "def generate_text(model, start_word, length=50):\n",
        "    current_word = start_word\n",
        "    output = [current_word]\n",
        "\n",
        "    for _ in range(length - 1):\n",
        "        next_words = model[current_word]\n",
        "        current_word = random.choice(next_words)\n",
        "        output.append(current_word)\n",
        "\n",
        "    return ' '.join(output)\n",
        "\n",
        "# Example usage:\n",
        "start_word = random.choice(words)\n",
        "generated_text = generate_text(markov_model, start_word)\n",
        "print(generated_text)\n"
      ]
    }
  ]
}